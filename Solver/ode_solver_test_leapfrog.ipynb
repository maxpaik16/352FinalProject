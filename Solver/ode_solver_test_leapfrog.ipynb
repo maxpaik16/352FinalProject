{
 "cells": [
  {
   "cell_type": "code",
   "execution_count": 10,
   "metadata": {},
   "outputs": [],
   "source": [
    "import ctypes\n",
    "from ctypes import *\n",
    "from numpy.ctypeslib import ndpointer\n",
    "import numpy as np\n",
    "import matplotlib.pyplot as plt\n",
    "import numba"
   ]
  },
  {
   "cell_type": "code",
   "execution_count": 11,
   "metadata": {},
   "outputs": [
    {
     "name": "stderr",
     "output_type": "stream",
     "text": [
      "C:/Program Files/mingw-w64/x86_64-8.1.0-posix-seh-rt_v6-rev0/mingw64/bin/../lib/gcc/x86_64-w64-mingw32/8.1.0/../../../../x86_64-w64-mingw32/bin/ld.exe: cannot open output file libode.so: Permission denied\n",
      "collect2.exe: error: ld returned 1 exit status\n"
     ]
    }
   ],
   "source": [
    "!gcc -shared -O2 -fPIC ode.c -o libode.so"
   ]
  },
  {
   "cell_type": "code",
   "execution_count": 12,
   "metadata": {},
   "outputs": [],
   "source": [
    "#load our C library, it's as simple as that!\n",
    "lib = ctypes.CDLL(\"libode.so\")\n",
    "#rename C-based solve_ode() function into solve_ode_c()\n",
    "solve_ode_c = lib.solve_ode\n",
    "#in order to call a C function, we need to define:\n",
    "# * the return data type\n",
    "solve_ode_c.restype = None\n",
    "# * function argument types\n",
    "solve_ode_c.argtypes = [\n",
    "    ndpointer(ctypes.c_double), \n",
    "    ndpointer(ctypes.c_double),\n",
    "    ctypes.c_double,\n",
    "    ctypes.c_int,\n",
    "    ctypes.c_int,\n",
    "    ctypes.c_int,\n",
    "    ndpointer(ctypes.c_double),\n",
    "    ctypes.CFUNCTYPE(None,c_double, POINTER(c_double), POINTER(c_double), POINTER(c_double))\n",
    "]\n",
    "\n",
    "#In order to \"hide\" from the end user the C \"guts\" of the library, \n",
    "#let's create a python \"wrapper function\" for our ODE solver\n",
    "def solve_ode(fun, t_span, nsteps, z0, method = \"RK4\", args = None ):\n",
    "    \"\"\"\n",
    "    Takes in the right-hand side function fun, the time range t_span, \n",
    "    the number of time steps nsteps, and the initial condition vector z0.\n",
    "    \n",
    "    Keyword arguments: \n",
    "    method -- one of \"Euler\", \"Euler-Cromer\", \"RK2\", \"RK4\" ODE solution methods\n",
    "    args   -- arguments to pass to the right-hand side function fun()\n",
    "    \n",
    "    Returns: the pair t,z of time and solution vector.\n",
    "    \"\"\"\n",
    "    t_span = np.asarray(t_span,dtype=np.double)\n",
    "    t = np.linspace(t_span[0],t_span[1],nsteps+1,dtype=np.double)\n",
    "    nvar = len(z0)\n",
    "    z = np.zeros([nsteps+1,nvar],dtype=np.double,order='C')\n",
    "    #assign initial conditions\n",
    "    z0 = np.asarray(z0,dtype=np.double)\n",
    "    z[0,:] = z0\n",
    "    #check if the supplied function is numba-based CFunc\n",
    "    if(\"ctypes\" in dir(fun)):\n",
    "        #numba-based, we can use it right away\n",
    "        fun_c = fun.ctypes\n",
    "    else:\n",
    "        #otherwise, we need to wrap the python function into CFUNCTYPE\n",
    "        FUNCTYPE = CFUNCTYPE(None,c_double, POINTER(c_double), POINTER(c_double), POINTER(c_double))\n",
    "        #create a C-compatible function pointer\n",
    "        fun_c = FUNCTYPE(fun)\n",
    "    #compute preliminaries to call the C function library\n",
    "    dt = (t_span[1]-t_span[0])/nsteps\n",
    "    if args is not None: args = np.asarray(args,dtype=np.double)\n",
    "    if method in [\"RK2\", \"RKO2\"]:\n",
    "        order = 2\n",
    "    elif method in [\"Euler\"]:\n",
    "        order = 1\n",
    "    elif method in [\"Euler-Cromer\"]:\n",
    "        order = -1\n",
    "    elif method in [\"Velocity Verlet\"]:\n",
    "        order = 13\n",
    "    elif method in [\"Leapfrog\"]:\n",
    "        order = 5\n",
    "    elif method in [\"RK4\"]:\n",
    "        order = 4\n",
    "    elif method in [\"Yoshida4\"]:\n",
    "        order = 6\n",
    "    else:\n",
    "        #default\n",
    "        order = 4\n",
    "    \n",
    "    #make a call to the C library function\n",
    "    solve_ode_c(t,z,dt,nsteps,nvar,order,args,fun_c)\n",
    "\n",
    "    return t,z"
   ]
  },
  {
   "cell_type": "markdown",
   "metadata": {},
   "source": [
    "## Define the right-hand side function: $\\frac{d\\vec z}{dt} = \\vec f(t,\\vec z)$"
   ]
  },
  {
   "cell_type": "code",
   "execution_count": 13,
   "metadata": {},
   "outputs": [],
   "source": [
    "#This has been updated to use numba, which compiles the below function on the fly\n",
    "#and substantially speeds up the ODE integration\n",
    "from numba import cfunc, types\n",
    "\n",
    "c_sig = types.void(types.double,\n",
    "                   types.CPointer(types.double),\n",
    "                   types.CPointer(types.double),\n",
    "                   types.CPointer(types.double))\n",
    "\n",
    "@cfunc(c_sig)\n",
    "def func(t,z,params,dzdt):\n",
    "    \"\"\"\n",
    "    Takes the time and solution vector z, as well as parameters in the params array, \n",
    "    and populates the dzdt array with the values of the right-hand side function f(t,z).\n",
    "    \n",
    "    This function returns the right-hand side f(t,z) for a planet subject to graviational\n",
    "    force due to the center body with GM_S = 4 pi^2 * params[0]\n",
    "    \n",
    "    Returns: nothing\n",
    "    \"\"\"\n",
    "    x  = z[0]\n",
    "    Vx = z[1]\n",
    "    y  = z[2]\n",
    "    Vy = z[3]\n",
    "    \n",
    "    r = np.sqrt(x**2 + y**2)\n",
    "    \n",
    "    dzdt[0] = Vx\n",
    "    dzdt[1] = -4. * (np.pi ** 2) * params[0] * x / (r ** 3)\n",
    "    dzdt[2] = Vy\n",
    "    dzdt[3] = -4. * (np.pi ** 2) * params[0] * y / (r ** 3)"
   ]
  },
  {
   "cell_type": "markdown",
   "metadata": {},
   "source": [
    "# Test particle orbiting the Sun"
   ]
  },
  {
   "cell_type": "markdown",
   "metadata": {},
   "source": [
    "## Initial conditions: $x=1, \\ y=0, \\ V_x = 0, \\ V_y = 2\\pi$"
   ]
  },
  {
   "cell_type": "code",
   "execution_count": 14,
   "metadata": {},
   "outputs": [
    {
     "name": "stdout",
     "output_type": "stream",
     "text": [
      "100000\n"
     ]
    }
   ],
   "source": [
    "tf = 100.\n",
    "dt = 0.001\n",
    "nsteps = int(tf/dt)\n",
    "t,z = solve_ode(func,[0.,tf], nsteps, [1.,0.,0.,2*np.pi], args=[1], \n",
    "                #method=\"RK4\") \n",
    "                #method=\"Leapfrog\") \n",
    "                #method=\"Velocity Verlet\")\n",
    "                method=\"Yoshida4\")\n",
    "x,vx,y,vy = z.T\n",
    "print(nsteps)"
   ]
  },
  {
   "cell_type": "code",
   "execution_count": 15,
   "metadata": {},
   "outputs": [
    {
     "data": {
      "image/png": "[encoded data removed]",
      "text/plain": [
       "<Figure size 720x720 with 1 Axes>"
      ]
     },
     "metadata": {
      "needs_background": "light"
     },
     "output_type": "display_data"
    }
   ],
   "source": [
    "plt.figure(figsize=(10,10))\n",
    "plt.title(r\"Test particle orbiting the Sun, $x=1,\\ y=0, \\ V_x=0, \\ V_y = 2 \\pi$\")\n",
    "plt.ylabel(r\"$y$\")\n",
    "plt.xlabel(r\"$x$\")\n",
    "\n",
    "plt.plot(x,y)\n",
    "#plt.legend(loc=\"upper right\")\n",
    "plt.grid()\n",
    "\n",
    "plt.savefig(\"xytest.png\")"
   ]
  },
  {
   "cell_type": "code",
   "execution_count": 16,
   "metadata": {},
   "outputs": [
    {
     "name": "stderr",
     "output_type": "stream",
     "text": [
      "No handles with labels found to put in legend.\n"
     ]
    },
    {
     "data": {
      "text/plain": [
       "<matplotlib.legend.Legend at 0x1665a4a52b0>"
      ]
     },
     "execution_count": 16,
     "metadata": {},
     "output_type": "execute_result"
    },
    {
     "data": {
      "image/png": "[encoded data removed]",
      "text/plain": [
       "<Figure size 432x288 with 1 Axes>"
      ]
     },
     "metadata": {
      "needs_background": "light"
     },
     "output_type": "display_data"
    }
   ],
   "source": [
    "r = (x**2+y**2)**0.5\n",
    "GM=4*np.pi**2\n",
    "energy = 0.5*(vx**2+vy**2)-GM/r\n",
    "ax2 = plt.gca()\n",
    "ax2.loglog(t,np.abs((energy-energy[0])/energy[0]))\n",
    "ax2.grid()\n",
    "ax2.set_xlabel(\"$t$\")\n",
    "ax2.set_ylabel(\"$de/e$\")\n",
    "ax2.legend()"
   ]
  },
  {
   "cell_type": "code",
   "execution_count": 17,
   "metadata": {},
   "outputs": [],
   "source": [
    "#This has been updated to use numba, which compiles the below function on the fly\n",
    "#and substantially speeds up the ODE integration\n",
    "from numba import cfunc, types\n",
    "\n",
    "c_sig = types.void(types.double,\n",
    "                   types.CPointer(types.double),\n",
    "                   types.CPointer(types.double),\n",
    "                   types.CPointer(types.double))\n",
    "\n",
    "@cfunc(c_sig)\n",
    "def func(t,a,params,dadt):\n",
    "    \"\"\"\n",
    "    Takes the time t and solution vector a, as well as parameters in the params array, \n",
    "    and returns the right-hand side function, dadt\n",
    "    \"\"\"\n",
    "    x  = a[0]\n",
    "    vx = a[1]\n",
    "    y  = a[2]\n",
    "    vy = a[3]\n",
    "    r = (x**2+y**2)**0.5\n",
    "    GM = params[0]\n",
    "    dadt[0] = vx\n",
    "    dadt[1] = -GM*x/r**3\n",
    "    dadt[2] = vy\n",
    "    dadt[3] = -GM*y/r**3    "
   ]
  },
  {
   "cell_type": "code",
   "execution_count": 24,
   "metadata": {},
   "outputs": [
    {
     "ename": "MemoryError",
     "evalue": "Unable to allocate 305. MiB for an array with shape (10000001, 4) and data type float64",
     "output_type": "error",
     "traceback": [
      "\u001b[1;31m---------------------------------------------------------------------------\u001b[0m",
      "\u001b[1;31mMemoryError\u001b[0m                               Traceback (most recent call last)",
      "\u001b[1;32m<ipython-input-24-94e095993a06>\u001b[0m in \u001b[0;36m<module>\u001b[1;34m\u001b[0m\n\u001b[0;32m      8\u001b[0m \u001b[0mGM\u001b[0m \u001b[1;33m=\u001b[0m \u001b[1;36m4\u001b[0m\u001b[1;33m*\u001b[0m\u001b[0mnp\u001b[0m\u001b[1;33m.\u001b[0m\u001b[0mpi\u001b[0m\u001b[1;33m**\u001b[0m\u001b[1;36m2\u001b[0m\u001b[1;33m\u001b[0m\u001b[1;33m\u001b[0m\u001b[0m\n\u001b[0;32m      9\u001b[0m \u001b[1;32mfor\u001b[0m \u001b[0mmethod\u001b[0m \u001b[1;32min\u001b[0m \u001b[1;33m[\u001b[0m\u001b[1;34m\"RK4\"\u001b[0m\u001b[1;33m,\u001b[0m \u001b[1;34m\"Yoshida4\"\u001b[0m\u001b[1;33m]\u001b[0m\u001b[1;33m:\u001b[0m \u001b[1;31m#\"RK2\",\"Leapfrog\",\u001b[0m\u001b[1;33m\u001b[0m\u001b[1;33m\u001b[0m\u001b[0m\n\u001b[1;32m---> 10\u001b[1;33m     \u001b[0mt\u001b[0m\u001b[1;33m,\u001b[0m\u001b[0ma\u001b[0m \u001b[1;33m=\u001b[0m \u001b[0msolve_ode\u001b[0m\u001b[1;33m(\u001b[0m\u001b[0mfunc\u001b[0m\u001b[1;33m,\u001b[0m\u001b[1;33m[\u001b[0m\u001b[1;36m0.\u001b[0m\u001b[1;33m,\u001b[0m\u001b[1;36m100.\u001b[0m\u001b[1;33m]\u001b[0m\u001b[1;33m,\u001b[0m \u001b[0mnsteps\u001b[0m\u001b[1;33m,\u001b[0m \u001b[1;33m[\u001b[0m\u001b[1;36m1\u001b[0m\u001b[1;33m,\u001b[0m\u001b[1;36m0\u001b[0m\u001b[1;33m,\u001b[0m\u001b[1;36m1\u001b[0m\u001b[1;33m,\u001b[0m\u001b[1;36m2\u001b[0m\u001b[1;33m*\u001b[0m\u001b[0mnp\u001b[0m\u001b[1;33m.\u001b[0m\u001b[0mpi\u001b[0m\u001b[1;33m+\u001b[0m\u001b[1;36m1\u001b[0m\u001b[1;33m]\u001b[0m\u001b[1;33m,\u001b[0m \u001b[0margs\u001b[0m\u001b[1;33m=\u001b[0m\u001b[1;33m[\u001b[0m\u001b[0mGM\u001b[0m\u001b[1;33m]\u001b[0m\u001b[1;33m,\u001b[0m \u001b[0mmethod\u001b[0m\u001b[1;33m=\u001b[0m\u001b[0mmethod\u001b[0m\u001b[1;33m)\u001b[0m\u001b[1;33m\u001b[0m\u001b[1;33m\u001b[0m\u001b[0m\n\u001b[0m\u001b[0;32m     11\u001b[0m     \u001b[0mx\u001b[0m\u001b[1;33m,\u001b[0m\u001b[0mvx\u001b[0m\u001b[1;33m,\u001b[0m\u001b[0my\u001b[0m\u001b[1;33m,\u001b[0m\u001b[0mvy\u001b[0m \u001b[1;33m=\u001b[0m \u001b[0ma\u001b[0m\u001b[1;33m.\u001b[0m\u001b[0mT\u001b[0m\u001b[1;33m\u001b[0m\u001b[1;33m\u001b[0m\u001b[0m\n\u001b[0;32m     12\u001b[0m     \u001b[0mr\u001b[0m \u001b[1;33m=\u001b[0m \u001b[1;33m(\u001b[0m\u001b[0mx\u001b[0m\u001b[1;33m**\u001b[0m\u001b[1;36m2\u001b[0m\u001b[1;33m+\u001b[0m\u001b[0my\u001b[0m\u001b[1;33m**\u001b[0m\u001b[1;36m2\u001b[0m\u001b[1;33m)\u001b[0m\u001b[1;33m**\u001b[0m\u001b[1;36m0.5\u001b[0m\u001b[1;33m\u001b[0m\u001b[1;33m\u001b[0m\u001b[0m\n",
      "\u001b[1;32m<ipython-input-12-589526b9e909>\u001b[0m in \u001b[0;36msolve_ode\u001b[1;34m(fun, t_span, nsteps, z0, method, args)\u001b[0m\n\u001b[0;32m     34\u001b[0m     \u001b[0mt\u001b[0m \u001b[1;33m=\u001b[0m \u001b[0mnp\u001b[0m\u001b[1;33m.\u001b[0m\u001b[0mlinspace\u001b[0m\u001b[1;33m(\u001b[0m\u001b[0mt_span\u001b[0m\u001b[1;33m[\u001b[0m\u001b[1;36m0\u001b[0m\u001b[1;33m]\u001b[0m\u001b[1;33m,\u001b[0m\u001b[0mt_span\u001b[0m\u001b[1;33m[\u001b[0m\u001b[1;36m1\u001b[0m\u001b[1;33m]\u001b[0m\u001b[1;33m,\u001b[0m\u001b[0mnsteps\u001b[0m\u001b[1;33m+\u001b[0m\u001b[1;36m1\u001b[0m\u001b[1;33m,\u001b[0m\u001b[0mdtype\u001b[0m\u001b[1;33m=\u001b[0m\u001b[0mnp\u001b[0m\u001b[1;33m.\u001b[0m\u001b[0mdouble\u001b[0m\u001b[1;33m)\u001b[0m\u001b[1;33m\u001b[0m\u001b[1;33m\u001b[0m\u001b[0m\n\u001b[0;32m     35\u001b[0m     \u001b[0mnvar\u001b[0m \u001b[1;33m=\u001b[0m \u001b[0mlen\u001b[0m\u001b[1;33m(\u001b[0m\u001b[0mz0\u001b[0m\u001b[1;33m)\u001b[0m\u001b[1;33m\u001b[0m\u001b[1;33m\u001b[0m\u001b[0m\n\u001b[1;32m---> 36\u001b[1;33m     \u001b[0mz\u001b[0m \u001b[1;33m=\u001b[0m \u001b[0mnp\u001b[0m\u001b[1;33m.\u001b[0m\u001b[0mzeros\u001b[0m\u001b[1;33m(\u001b[0m\u001b[1;33m[\u001b[0m\u001b[0mnsteps\u001b[0m\u001b[1;33m+\u001b[0m\u001b[1;36m1\u001b[0m\u001b[1;33m,\u001b[0m\u001b[0mnvar\u001b[0m\u001b[1;33m]\u001b[0m\u001b[1;33m,\u001b[0m\u001b[0mdtype\u001b[0m\u001b[1;33m=\u001b[0m\u001b[0mnp\u001b[0m\u001b[1;33m.\u001b[0m\u001b[0mdouble\u001b[0m\u001b[1;33m,\u001b[0m\u001b[0morder\u001b[0m\u001b[1;33m=\u001b[0m\u001b[1;34m'C'\u001b[0m\u001b[1;33m)\u001b[0m\u001b[1;33m\u001b[0m\u001b[1;33m\u001b[0m\u001b[0m\n\u001b[0m\u001b[0;32m     37\u001b[0m     \u001b[1;31m#assign initial conditions\u001b[0m\u001b[1;33m\u001b[0m\u001b[1;33m\u001b[0m\u001b[1;33m\u001b[0m\u001b[0m\n\u001b[0;32m     38\u001b[0m     \u001b[0mz0\u001b[0m \u001b[1;33m=\u001b[0m \u001b[0mnp\u001b[0m\u001b[1;33m.\u001b[0m\u001b[0masarray\u001b[0m\u001b[1;33m(\u001b[0m\u001b[0mz0\u001b[0m\u001b[1;33m,\u001b[0m\u001b[0mdtype\u001b[0m\u001b[1;33m=\u001b[0m\u001b[0mnp\u001b[0m\u001b[1;33m.\u001b[0m\u001b[0mdouble\u001b[0m\u001b[1;33m)\u001b[0m\u001b[1;33m\u001b[0m\u001b[1;33m\u001b[0m\u001b[0m\n",
      "\u001b[1;31mMemoryError\u001b[0m: Unable to allocate 305. MiB for an array with shape (10000001, 4) and data type float64"
     ]
    },
    {
     "data": {
      "image/png": "[encoded data removed]",
      "text/plain": [
       "<Figure size 432x288 with 1 Axes>"
      ]
     },
     "metadata": {
      "needs_background": "light"
     },
     "output_type": "display_data"
    },
    {
     "data": {
      "image/png": "[encoded data removed]",
      "text/plain": [
       "<Figure size 432x288 with 1 Axes>"
      ]
     },
     "metadata": {
      "needs_background": "light"
     },
     "output_type": "display_data"
    }
   ],
   "source": [
    "fig1 = plt.figure()\n",
    "ax1 = plt.gca()\n",
    "fig2 = plt.figure()\n",
    "ax2 = plt.gca()\n",
    "dt = 0.00001\n",
    "nsteps = int(100/dt)\n",
    "\n",
    "GM = 4*np.pi**2\n",
    "for method in [\"RK4\", \"Yoshida4\"]: #\"RK2\",\"Leapfrog\",  \n",
    "    t,a = solve_ode(func,[0.,100.], nsteps, [1,0,1,2*np.pi+1], args=[GM], method=method)\n",
    "    x,vx,y,vy = a.T\n",
    "    r = (x**2+y**2)**0.5\n",
    "    energy = 0.5*(vx**2+vy**2)-GM/r\n",
    "    ax1.plot(x,y,label=r\"%s\" % method)\n",
    "    ax2.loglog(t,np.abs((energy-energy[0])/energy[0]),label=r\"%s\" % method)\n",
    "ax1.legend()\n",
    "ax1.set_aspect(1.)\n",
    "ax1.grid(b=1)\n",
    "ax1.set_xlabel(r\"$x$ [AU]\")\n",
    "ax1.set_ylabel(r\"$y$ [AU]\")\n",
    "fig1.savefig(\"orbits.png\")\n",
    "ax2.legend()\n",
    "\n",
    "fig2.savefig(\"denergy.png\")"
   ]
  },
  {
   "cell_type": "markdown",
   "metadata": {},
   "source": [
    "## The period of the orbit"
   ]
  },
  {
   "cell_type": "code",
   "execution_count": 8,
   "metadata": {},
   "outputs": [
    {
     "name": "stdout",
     "output_type": "stream",
     "text": [
      "The period is nan\n"
     ]
    },
    {
     "name": "stderr",
     "output_type": "stream",
     "text": [
      "C:\\Users\\valer\\anaconda3\\lib\\site-packages\\numpy\\lib\\function_base.py:380: RuntimeWarning: Mean of empty slice.\n",
      "  avg = a.mean(axis)\n",
      "C:\\Users\\valer\\anaconda3\\lib\\site-packages\\numpy\\core\\_methods.py:170: RuntimeWarning: invalid value encountered in double_scalars\n",
      "  ret = ret.dtype.type(ret / rcount)\n"
     ]
    }
   ],
   "source": [
    "# pick time when the planet is at (1,0)\n",
    "# note that to find the scale of the distances, I found x[3] - x[2]. \n",
    "# it is of the 9th order so that I compared x-1 and y with 10^(-9)\n",
    "which = ((np.abs(x - 1) < np.power(10.,-9.)) * (np.abs(y) < np.power(10.,-9.)))\n",
    "\n",
    "# choose times when the planet at (1,0), find the discrete difference, and find the average of this number\n",
    "T = np.average(np.diff(t[which]))\n",
    "print(\"The period is %0.2f\" %T)"
   ]
  },
  {
   "cell_type": "markdown",
   "metadata": {},
   "source": [
    "We expect the result be 1 year, and it is the same as we get from the simulation."
   ]
  },
  {
   "cell_type": "markdown",
   "metadata": {},
   "source": [
    "## Initial conditions: $x=1, \\ y=0, \\ V_x = 0, \\ V_y = 2\\pi$ and $x=1, \\ y=0, \\ V_x = 1, \\ V_y = 2\\pi + 1$"
   ]
  },
  {
   "cell_type": "code",
   "execution_count": 22,
   "metadata": {},
   "outputs": [],
   "source": [
    "dt = 0.0001\n",
    "nsteps = int(1000/dt)\n",
    "t,z1 = solve_ode(func,[0.,1000.], nsteps, [1.,0.,0.,2*np.pi], args=[1], method=\"Velocity Verlet\")\n",
    "x1,Vx1,y1,Vy1 = z1.T\n",
    "\n",
    "t,z2 = solve_ode(func,[0.,1000.], nsteps, [1.,1.,0.,2*np.pi+1], args=[1], method=\"Velocity Verlet\")\n",
    "x2,Vx2,y2,Vy2 = z2.T"
   ]
  },
  {
   "cell_type": "code",
   "execution_count": 23,
   "metadata": {},
   "outputs": [
    {
     "data": {
      "image/png": "[encoded data removed]",
      "text/plain": [
       "<Figure size 720x720 with 1 Axes>"
      ]
     },
     "metadata": {
      "needs_background": "light"
     },
     "output_type": "display_data"
    }
   ],
   "source": [
    "plt.figure(figsize=(10,10))\n",
    "plt.title(r\"Test particle orbiting the Sun, $x=1,\\ y=0, \\ V_x=0, \\ V_y = 2 \\pi$ and $x=1, \\ y=0, \\ V_x = 1, \\ V_y = 2\\pi + 1$\")\n",
    "plt.ylabel(r\"$y$\")\n",
    "plt.xlabel(r\"$x$\")\n",
    "\n",
    "plt.scatter(x1,y1,label=\"$V_x = 0, \\ V_y = 2\\pi$\",s=1)\n",
    "plt.scatter(x2,y2,label=\"$V_x = 1, \\ V_y = 2\\pi + 1$\",s=1)\n",
    "plt.legend(loc=\"upper right\")\n",
    "plt.grid()\n",
    "plt.gca().set_aspect(1.0)\n",
    "\n",
    "plt.savefig(\"xytest_circle_ellipse.png\")"
   ]
  },
  {
   "cell_type": "markdown",
   "metadata": {},
   "source": [
    "## Functions ellipse_to_xy and xy_to_ellipse"
   ]
  },
  {
   "cell_type": "code",
   "execution_count": 15,
   "metadata": {},
   "outputs": [],
   "source": [
    "def ellipse_to_xy(a,e,theta,thetaE):\n",
    "    \"\"\"\n",
    "    Takes the particle's position relative to an ellipse and parameters of the ellipse a,e,theta,theta_E.\n",
    "    This function returns the Cartesian variables x,V_x,y,V_y.\n",
    "    \n",
    "    Returns x,Vx,y,Vy\n",
    "    \"\"\"\n",
    "    # radius using angle theta\n",
    "    r = a * (1 - e**2) / (1 + e * np.cos(theta - thetaE))\n",
    "    \n",
    "    # angular momentum per mass\n",
    "    h = 2. * np.pi * np.sqrt(np.abs(a * (1. - e **2)))\n",
    "    \n",
    "    # energy per mass\n",
    "    u = - 2. * (np.pi ** 2) / a \n",
    "    \n",
    "    # speed of the particle\n",
    "    V = np.sqrt(np.abs(2. * u + 8. * (np.pi ** 2) / r)) \n",
    "    \n",
    "    # let Vx = V cos alpha, Vy = V sin alpha\n",
    "    # buff = alpha - theta\n",
    "    # when the radial velocity is positive (the planet goes from its periapse to apoapse = sin(theta-theta_E) > 0)\n",
    "    # alpha - theta should be less then pi/2\n",
    "    buff = np.pi*(np.sin(theta - thetaE) < 0.) + np.power(-1., np.sin(theta - thetaE) < 0.) * np.arcsin(h / (r * V))\n",
    "    alpha = theta + buff\n",
    "        \n",
    "    # x and y\n",
    "    x = r * np.cos(theta)\n",
    "    y = r * np.sin(theta)\n",
    "    \n",
    "    # Vx and Vy\n",
    "    Vx = V * np.cos(alpha)\n",
    "    Vy = V * np.sin(alpha)\n",
    "    \n",
    "    return x,Vx,y,Vy"
   ]
  },
  {
   "cell_type": "code",
   "execution_count": 19,
   "metadata": {},
   "outputs": [],
   "source": [
    "#import pdb\n",
    "def xy_to_ellipse(x,Vx,y,Vy):\n",
    "    \"\"\"\n",
    "    Takes the Cartesian variables.\n",
    "    This function returns the particle's position relative to an ellipse and parameters of the ellipse.\n",
    "    \n",
    "    Returns a,e,theta,theta_E\n",
    "    \"\"\"\n",
    "    # radius using x and y\n",
    "    r = np.sqrt(x ** 2 + y ** 2)\n",
    "    \n",
    "    # speed of the particle\n",
    "    V = np.sqrt(Vx ** 2 + Vy ** 2)\n",
    "    \n",
    "    # angular momentum per mass\n",
    "    h = x * Vy - y * Vx\n",
    "    \n",
    "    # energy per mass\n",
    "    u = (V ** 2) / 2. - 4. * (np.pi ** 2) / r\n",
    "    \n",
    "    # semi-major axis\n",
    "    a = -2. * ((np.pi) ** 2) / u\n",
    "    \n",
    "    # eccentricity of the elliptical orbit, added absolute value\n",
    "    e = np.sqrt(np.abs(1 - ((h / (2. * np.pi)) ** 2 )/ a))\n",
    "    \n",
    "    # theta\n",
    "    theta = np.arctan2(y,x)\n",
    "    \n",
    "    # theta_E, compute e*cos(theta - thetaE) first\n",
    "    buff = a * (1. - e ** 2) / r - 1.\n",
    "    \n",
    "    # divide buff/e and output 0 if it is a circular orbit\n",
    "    buff_cos = np.divide(buff, e, out=np.zeros_like(buff), where=(e > np.power(10.,-5.)))\n",
    "    \n",
    "    #if (buff_cos < -1.).sum() or (buff_cos > 1.).sum():\n",
    "        #pdb.set_trace()\n",
    "    \n",
    "    #to make sure that arccos takes values less than 1 and greater than -1\n",
    "    buff_cos[buff_cos < -1.] = -1.\n",
    "    buff_cos[buff_cos > 1.] = 1.\n",
    "    \n",
    "    delta = np.arccos(buff_cos)\n",
    "    \n",
    "    # change the sign if the radial velocity is negative\n",
    "    delta *= np.power(-1.,(x * Vx + y * Vy) < 0.)\n",
    "    thetaE = theta - delta\n",
    "    \n",
    "    # set thetaE to 0 if it is a circular orbit\n",
    "    thetaE *= (e > np.power(10.,-5.))\n",
    "    \n",
    "    # fix to add 2pi or subtract 2pi if thetaE isn't between -pi and pi\n",
    "    thetaE -= (thetaE > np.pi) * 2 * np.pi\n",
    "    thetaE += (thetaE < -np.pi) * 2 * np.pi\n",
    "    \n",
    "    return a,e,theta,thetaE"
   ]
  },
  {
   "cell_type": "code",
   "execution_count": 29,
   "metadata": {},
   "outputs": [
    {
     "name": "stdout",
     "output_type": "stream",
     "text": [
      "-1.7024143839193153215916254\n"
     ]
    }
   ],
   "source": [
    "w1 = - np.power(2, 1./3.) / (2. - np.power(2, 1./3.))\n",
    "print(\"%.25f\" % w1)"
   ]
  },
  {
   "cell_type": "code",
   "execution_count": 30,
   "metadata": {},
   "outputs": [
    {
     "name": "stdout",
     "output_type": "stream",
     "text": [
      "1.3512071919596577718181152\n"
     ]
    }
   ],
   "source": [
    "w2 = 1. / (2. - np.power(2, 1./3.))\n",
    "print(\"%.25f\" % w2)"
   ]
  },
  {
   "cell_type": "code",
   "execution_count": null,
   "metadata": {},
   "outputs": [],
   "source": []
  }
 ],
 "metadata": {
  "kernelspec": {
   "display_name": "Python 3",
   "language": "python",
   "name": "python3"
  },
  "language_info": {
   "codemirror_mode": {
    "name": "ipython",
    "version": 3
   },
   "file_extension": ".py",
   "mimetype": "text/x-python",
   "name": "python",
   "nbconvert_exporter": "python",
   "pygments_lexer": "ipython3",
   "version": "3.8.5"
  }
 },
 "nbformat": 4,
 "nbformat_minor": 2
}
