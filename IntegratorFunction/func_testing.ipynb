{
 "cells": [
  {
   "cell_type": "markdown",
   "metadata": {},
   "source": [
    "# Testing Integrator Functions Without Sympletic Methods"
   ]
  },
  {
   "source": [
    "Unless stated otherwise, length = AU and time = yr"
   ],
   "cell_type": "markdown",
   "metadata": {}
  },
  {
   "source": [
    "# Initial Setup"
   ],
   "cell_type": "markdown",
   "metadata": {}
  },
  {
   "source": [
    "#!gcc -shared -O2 -fPIC ode.c -o libode.so"
   ],
   "cell_type": "code",
   "metadata": {},
   "execution_count": null,
   "outputs": []
  },
  {
   "cell_type": "code",
   "execution_count": null,
   "metadata": {},
   "outputs": [],
   "source": [
    "import ctypes\n",
    "from ctypes import *\n",
    "from numpy.ctypeslib import ndpointer\n",
    "import numpy as np\n",
    "import matplotlib.pyplot as plt\n",
    "import numba\n",
    "import math"
   ]
  },
  {
   "cell_type": "code",
   "execution_count": null,
   "metadata": {},
   "outputs": [],
   "source": [
    "from odesolver import *\n",
    "from helpers import *\n",
    "from interfunc import *"
   ]
  },
  {
   "source": [
    "# func_2_body Testing"
   ],
   "cell_type": "markdown",
   "metadata": {}
  },
  {
   "cell_type": "code",
   "execution_count": null,
   "metadata": {},
   "outputs": [],
   "source": [
    "GM_S = 39.4229 #AU^3.yr^{-2} solar mass parameter\n",
    "\n",
    "a_0 = 0.39\n",
    "e_0 = 0.206\n",
    "theta_E_0 = -3*np.pi/4\n",
    "theta_0 = theta_E_0\n",
    "x_0,v_x_0,y_0,v_y_0 = ellipse_to_xy(a_0, e_0, theta_0, theta_E_0, GM_S)\n",
    "initial_mercury = [x_0,v_x_0,y_0,v_y_0]"
   ]
  },
  {
   "cell_type": "code",
   "execution_count": null,
   "metadata": {},
   "outputs": [],
   "source": [
    "total_time = 10*orbital_period(a_0,GM_S)\n",
    "step_size = orbital_period(a_0,GM_S)/400\n",
    "nsteps = int(total_time/step_size)\n",
    "t,sol = solve_ode(func_2_body,[0.,total_time], nsteps, initial_mercury, args=[GM_S], method=\"RK4\")\n",
    "x,v_x,y,v_y = sol.T"
   ]
  },
  {
   "cell_type": "code",
   "execution_count": null,
   "metadata": {},
   "outputs": [],
   "source": [
    "plt.figure(figsize=(6,6))\n",
    "plt.plot(x,y,label=r\"Mercury\")\n",
    "plt.legend()\n",
    "plt.grid()\n",
    "plt.xlabel(r\"$x$ (AU)\")\n",
    "plt.ylabel(r\"$y$ (AU)\")\n",
    "plt.text(0,0,\"Sun\",ha=\"center\",va=\"center\")\n",
    "plt.title(r\"Mercury Orbiting Sun Alone (10 orbital periods)\")"
   ]
  },
  {
   "source": [
    "# func_n_body testing"
   ],
   "cell_type": "markdown",
   "metadata": {}
  },
  {
   "cell_type": "code",
   "execution_count": null,
   "metadata": {},
   "outputs": [],
   "source": [
    "# Earth's standard gravitational parameter\n",
    "GM_E = 0.00011841685 #AU^3/yr^2\n",
    "\n",
    "# https://nssdc.gsfc.nasa.gov/planetary/factsheet/planet_table_ratio.html\n",
    "GM_M = GM_E*0.0553\n",
    "GM_V = GM_E*0.815\n",
    "GM_M = GM_E*0.107\n",
    "GM_J = GM_E*317.8\n",
    "GM_Sat = GM_E*95.2\n",
    "GM_U = GM_E*14.5\n",
    "GM_N = GM_E*17.1"
   ]
  },
  {
   "cell_type": "code",
   "execution_count": null,
   "metadata": {},
   "outputs": [],
   "source": []
  }
 ],
 "metadata": {
  "kernelspec": {
   "name": "python3",
   "display_name": "Python 3",
   "language": "python"
  },
  "language_info": {
   "codemirror_mode": {
    "name": "ipython",
    "version": 2
   },
   "file_extension": ".py",
   "mimetype": "text/x-python",
   "name": "python",
   "nbconvert_exporter": "python",
   "pygments_lexer": "ipython2",
   "version": "3.8.5-final"
  }
 },
 "nbformat": 4,
 "nbformat_minor": 2
}