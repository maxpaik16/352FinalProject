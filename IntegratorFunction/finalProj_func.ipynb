{
 "cells": [
  {
   "cell_type": "markdown",
   "metadata": {},
   "source": [
    "# func Development\n",
    "## Final Project - Team 5\n",
    "### PHYS-352 Winter 2021\n",
    "## Orion Forowycz"
   ]
  },
  {
   "source": [
    "# Initial Setup"
   ],
   "cell_type": "markdown",
   "metadata": {}
  },
  {
   "source": [
    "#!gcc -shared -O2 -fPIC ode.c -o libode.so"
   ],
   "cell_type": "code",
   "metadata": {},
   "execution_count": 12,
   "outputs": []
  },
  {
   "cell_type": "code",
   "execution_count": 13,
   "metadata": {},
   "outputs": [],
   "source": [
    "import ctypes\n",
    "from ctypes import *\n",
    "from numpy.ctypeslib import ndpointer\n",
    "import numpy as np\n",
    "import matplotlib.pyplot as plt\n",
    "import numba\n",
    "import math"
   ]
  },
  {
   "cell_type": "code",
   "execution_count": 14,
   "metadata": {},
   "outputs": [],
   "source": [
    "import solve_ode\n",
    "import helpers"
   ]
  },
  {
   "cell_type": "code",
   "execution_count": 15,
   "metadata": {},
   "outputs": [
    {
     "output_type": "stream",
     "name": "stdout",
     "text": [
      "[('ellipse_to_xy', <function ellipse_to_xy at 0x0000017331425550>), ('orbital_period', <function orbital_period at 0x0000017331425280>), ('remove_horizontal_discontinuities', <function remove_horizontal_discontinuities at 0x00000173314254C0>), ('xy_to_ellipse', <function xy_to_ellipse at 0x00000173314255E0>)]\n"
     ]
    }
   ],
   "source": [
    "from inspect import getmembers, isfunction\n",
    "print(getmembers(helpers, isfunction))"
   ]
  },
  {
   "source": [
    "# func Setup"
   ],
   "cell_type": "markdown",
   "metadata": {}
  },
  {
   "cell_type": "code",
   "execution_count": 16,
   "metadata": {},
   "outputs": [],
   "source": [
    "from numba import cfunc, types\n",
    "\n",
    "c_sig = types.void(types.double,\n",
    "                   types.CPointer(types.double),\n",
    "                   types.CPointer(types.double),\n",
    "                   types.CPointer(types.double))\n",
    "\n",
    "@cfunc(c_sig)\n",
    "def func(t,a,params,dydt):\n",
    "    \"\"\"\n",
    "    Takes the time and solution vector y, as well as parameters in the params array,\n",
    "    and populates the dydt array with the values of the right-hand side function \n",
    "    f(t,y).\n",
    "    Returns: nothing\n",
    "    \"\"\"\n",
    "\n",
    "    #Particle Input\n",
    "    x = a[0]\n",
    "    v_x = a[1]\n",
    "    y = a[2]\n",
    "    v_y = a[3]\n",
    "    GM_S = params[0]\n",
    "    r = np.sqrt(x**2 + y**2)\n",
    "\n",
    "    #Jupiter\n",
    "    GM_J = params[1]\n",
    "    r_J = params[2]\n",
    "    period_J = params[3]\n",
    "    theta_J = 2*np.pi*t/period_J\n",
    "    x_J = r_J*np.cos(theta_J)\n",
    "    y_J = r_J*np.sin(theta_J)\n",
    "    x_diff = x - x_J\n",
    "    y_diff = y - y_J\n",
    "    r_diff = np.sqrt(x_diff**2 + y_diff**2)\n",
    "    \n",
    "    #Particle Output\n",
    "    dydt[0] = v_x #dx/dt\n",
    "    dydt[1] = -GM_S/(r**3)*x - GM_J/(r_diff**3)*x_diff #dv_x/dt\n",
    "    dydt[2] = v_y #dy/dt\n",
    "    dydt[3] = -GM_S/(r**3)*y - GM_J/(r_diff**3)*y_diff #dv_y/dt"
   ]
  },
  {
   "source": [
    "# func Testing"
   ],
   "cell_type": "markdown",
   "metadata": {}
  },
  {
   "cell_type": "code",
   "execution_count": 17,
   "metadata": {},
   "outputs": [
    {
     "output_type": "error",
     "ename": "NameError",
     "evalue": "name 'ellipse_to_xy' is not defined",
     "traceback": [
      "\u001b[1;31m---------------------------------------------------------------------------\u001b[0m",
      "\u001b[1;31mNameError\u001b[0m                                 Traceback (most recent call last)",
      "\u001b[1;32m<ipython-input-17-fe556153b4be>\u001b[0m in \u001b[0;36m<module>\u001b[1;34m\u001b[0m\n\u001b[0;32m      5\u001b[0m \u001b[0mtheta_E_0\u001b[0m \u001b[1;33m=\u001b[0m \u001b[1;33m-\u001b[0m\u001b[1;36m3\u001b[0m\u001b[1;33m*\u001b[0m\u001b[0mnp\u001b[0m\u001b[1;33m.\u001b[0m\u001b[0mpi\u001b[0m\u001b[1;33m/\u001b[0m\u001b[1;36m4\u001b[0m\u001b[1;33m\u001b[0m\u001b[1;33m\u001b[0m\u001b[0m\n\u001b[0;32m      6\u001b[0m \u001b[0mtheta_0\u001b[0m \u001b[1;33m=\u001b[0m \u001b[0mtheta_E_0\u001b[0m\u001b[1;33m\u001b[0m\u001b[1;33m\u001b[0m\u001b[0m\n\u001b[1;32m----> 7\u001b[1;33m \u001b[0mx_0\u001b[0m\u001b[1;33m,\u001b[0m\u001b[0mv_x_0\u001b[0m\u001b[1;33m,\u001b[0m\u001b[0my_0\u001b[0m\u001b[1;33m,\u001b[0m\u001b[0mv_y_0\u001b[0m \u001b[1;33m=\u001b[0m \u001b[0mellipse_to_xy\u001b[0m\u001b[1;33m(\u001b[0m\u001b[0ma_0\u001b[0m\u001b[1;33m,\u001b[0m \u001b[0me_0\u001b[0m\u001b[1;33m,\u001b[0m \u001b[0mtheta_0\u001b[0m\u001b[1;33m,\u001b[0m \u001b[0mtheta_E_0\u001b[0m\u001b[1;33m,\u001b[0m \u001b[0mGM_S\u001b[0m\u001b[1;33m)\u001b[0m\u001b[1;33m\u001b[0m\u001b[1;33m\u001b[0m\u001b[0m\n\u001b[0m\u001b[0;32m      8\u001b[0m \u001b[0minitial_mercury\u001b[0m \u001b[1;33m=\u001b[0m \u001b[1;33m[\u001b[0m\u001b[0mx_0\u001b[0m\u001b[1;33m,\u001b[0m\u001b[0mv_x_0\u001b[0m\u001b[1;33m,\u001b[0m\u001b[0my_0\u001b[0m\u001b[1;33m,\u001b[0m\u001b[0mv_y_0\u001b[0m\u001b[1;33m]\u001b[0m\u001b[1;33m\u001b[0m\u001b[1;33m\u001b[0m\u001b[0m\n",
      "\u001b[1;31mNameError\u001b[0m: name 'ellipse_to_xy' is not defined"
     ]
    }
   ],
   "source": [
    "GM_S = 39.4229 #AU^3.yr^{-2} solar mass parameter\n",
    "\n",
    "a_0 = 0.39\n",
    "e_0 = 0.206\n",
    "theta_E_0 = -3*np.pi/4\n",
    "theta_0 = theta_E_0\n",
    "x_0,v_x_0,y_0,v_y_0 = ellipse_to_xy(a_0, e_0, theta_0, theta_E_0, GM_S)\n",
    "initial_mercury = [x_0,v_x_0,y_0,v_y_0]"
   ]
  },
  {
   "cell_type": "code",
   "execution_count": 8,
   "metadata": {},
   "outputs": [
    {
     "output_type": "error",
     "ename": "NameError",
     "evalue": "name 'orbital_period' is not defined",
     "traceback": [
      "\u001b[1;31m---------------------------------------------------------------------------\u001b[0m",
      "\u001b[1;31mNameError\u001b[0m                                 Traceback (most recent call last)",
      "\u001b[1;32m<ipython-input-8-6ecf55abda6c>\u001b[0m in \u001b[0;36m<module>\u001b[1;34m\u001b[0m\n\u001b[1;32m----> 1\u001b[1;33m \u001b[0mtotal_time\u001b[0m \u001b[1;33m=\u001b[0m \u001b[1;36m10\u001b[0m\u001b[1;33m*\u001b[0m\u001b[0morbital_period\u001b[0m\u001b[1;33m(\u001b[0m\u001b[0ma_0\u001b[0m\u001b[1;33m,\u001b[0m\u001b[0mGM_S\u001b[0m\u001b[1;33m)\u001b[0m\u001b[1;33m\u001b[0m\u001b[1;33m\u001b[0m\u001b[0m\n\u001b[0m\u001b[0;32m      2\u001b[0m \u001b[0mstep_size\u001b[0m \u001b[1;33m=\u001b[0m \u001b[0morbital_period\u001b[0m\u001b[1;33m(\u001b[0m\u001b[0ma_0\u001b[0m\u001b[1;33m)\u001b[0m\u001b[1;33m/\u001b[0m\u001b[1;36m400\u001b[0m\u001b[1;33m\u001b[0m\u001b[1;33m\u001b[0m\u001b[0m\n\u001b[0;32m      3\u001b[0m \u001b[0mnsteps\u001b[0m \u001b[1;33m=\u001b[0m \u001b[0mint\u001b[0m\u001b[1;33m(\u001b[0m\u001b[0mtotal_time\u001b[0m\u001b[1;33m/\u001b[0m\u001b[0mstep_size\u001b[0m\u001b[1;33m)\u001b[0m\u001b[1;33m\u001b[0m\u001b[1;33m\u001b[0m\u001b[0m\n\u001b[0;32m      4\u001b[0m \u001b[0mt\u001b[0m\u001b[1;33m,\u001b[0m\u001b[0msol\u001b[0m \u001b[1;33m=\u001b[0m \u001b[0msolve_ode\u001b[0m\u001b[1;33m(\u001b[0m\u001b[0mfunc\u001b[0m\u001b[1;33m,\u001b[0m\u001b[1;33m[\u001b[0m\u001b[1;36m0.\u001b[0m\u001b[1;33m,\u001b[0m\u001b[0mtotal_time\u001b[0m\u001b[1;33m]\u001b[0m\u001b[1;33m,\u001b[0m \u001b[0mnsteps\u001b[0m\u001b[1;33m,\u001b[0m \u001b[0minitial_mercury\u001b[0m\u001b[1;33m,\u001b[0m \u001b[0margs\u001b[0m\u001b[1;33m=\u001b[0m\u001b[1;33m[\u001b[0m\u001b[0mGM_S\u001b[0m\u001b[1;33m]\u001b[0m\u001b[1;33m,\u001b[0m \u001b[0mmethod\u001b[0m\u001b[1;33m=\u001b[0m\u001b[1;34m\"RK4\"\u001b[0m\u001b[1;33m)\u001b[0m\u001b[1;33m\u001b[0m\u001b[1;33m\u001b[0m\u001b[0m\n\u001b[0;32m      5\u001b[0m \u001b[0mx\u001b[0m\u001b[1;33m,\u001b[0m\u001b[0mv_x\u001b[0m\u001b[1;33m,\u001b[0m\u001b[0my\u001b[0m\u001b[1;33m,\u001b[0m\u001b[0mv_y\u001b[0m \u001b[1;33m=\u001b[0m \u001b[0msol\u001b[0m\u001b[1;33m.\u001b[0m\u001b[0mT\u001b[0m\u001b[1;33m\u001b[0m\u001b[1;33m\u001b[0m\u001b[0m\n",
      "\u001b[1;31mNameError\u001b[0m: name 'orbital_period' is not defined"
     ]
    }
   ],
   "source": [
    "total_time = 10*orbital_period(a_0,GM_S)\n",
    "step_size = orbital_period(a_0)/400\n",
    "nsteps = int(total_time/step_size)\n",
    "t,sol = solve_ode(func,[0.,total_time], nsteps, initial_mercury, args=[GM_S], method=\"RK4\")\n",
    "x,v_x,y,v_y = sol.T\n",
    "\n",
    "theta_E_i_no_jupiter = [0] * len(t)\n",
    "for i in range(len(t)):\n",
    "    a, e, theta, theta_E = xy_to_ellipse(x[i],v_x[i],y[i],v_y[i])\n",
    "    theta_E_i_no_jupiter[i] = theta_E"
   ]
  },
  {
   "cell_type": "code",
   "execution_count": null,
   "metadata": {},
   "outputs": [],
   "source": [
    "plt.figure(figsize=(6,6))\n",
    "plt.plot(t,theta_E_i_no_jupiter,label=r\"$\\theta_E$\")\n",
    "plt.legend()\n",
    "plt.ylim(-4,4)\n",
    "plt.grid()\n",
    "plt.xlabel(r\"$t$ (yr)\")\n",
    "plt.ylabel(r\"$\\theta_E$ (rad)\")\n",
    "plt.title(r\"Mercury Orbiting Sun Without Jupiter (4000 orbital periods)\")"
   ]
  }
 ],
 "metadata": {
  "kernelspec": {
   "name": "python3",
   "display_name": "Python 3",
   "language": "python"
  },
  "language_info": {
   "codemirror_mode": {
    "name": "ipython",
    "version": 2
   },
   "file_extension": ".py",
   "mimetype": "text/x-python",
   "name": "python",
   "nbconvert_exporter": "python",
   "pygments_lexer": "ipython2",
   "version": "3.8.5-final"
  }
 },
 "nbformat": 4,
 "nbformat_minor": 2
}