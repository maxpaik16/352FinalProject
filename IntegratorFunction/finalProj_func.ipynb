{
 "cells": [
  {
   "cell_type": "markdown",
   "metadata": {},
   "source": [
    "# func Development\n",
    "## Final Project - Team 5\n",
    "### PHYS-352 Winter 2021\n",
    "## Orion Forowycz"
   ]
  },
  {
   "source": [
    "# Initial Setup"
   ],
   "cell_type": "markdown",
   "metadata": {}
  },
  {
   "cell_type": "code",
   "execution_count": 124,
   "metadata": {},
   "outputs": [],
   "source": [
    "import ctypes\n",
    "from ctypes import *\n",
    "from numpy.ctypeslib import ndpointer\n",
    "import numpy as np\n",
    "import matplotlib.pyplot as plt\n",
    "import numba\n",
    "import math"
   ]
  },
  {
   "cell_type": "code",
   "execution_count": 125,
   "metadata": {},
   "outputs": [],
   "source": [
    "#load our C library, it's as simple as that!\n",
    "lib = ctypes.CDLL(\"libode.so\")\n",
    "#rename C-based solve_ode() function into solve_ode_c()\n",
    "solve_ode_c = lib.solve_ode\n",
    "#in order to call a C function, we need to define:\n",
    "# * the return data type\n",
    "solve_ode_c.restype = None\n",
    "# * function argument types\n",
    "solve_ode_c.argtypes = [\n",
    "    ndpointer(ctypes.c_double), \n",
    "    ndpointer(ctypes.c_double),\n",
    "    ctypes.c_double,\n",
    "    ctypes.c_int,\n",
    "    ctypes.c_int,\n",
    "    ctypes.c_int,\n",
    "    ndpointer(ctypes.c_double),\n",
    "    ctypes.CFUNCTYPE(None,c_double, POINTER(c_double), POINTER(c_double), POINTER(c_double))\n",
    "]\n",
    "\n",
    "#In order to \"hide\" from the end user the C \"guts\" of the library, \n",
    "#let's create a python \"wrapper function\" for our ODE solver\n",
    "def solve_ode(fun, t_span, nsteps, y0, method = \"RK4\", args = None ):\n",
    "    \"\"\"\n",
    "    Takes in the right-hand side function fun, the time range t_span, \n",
    "    the number of time steps nsteps, and the initial condition vector y0.\n",
    "    \n",
    "    Keyword arguments: \n",
    "    method -- one of \"Euler\", \"Euler-Cromer\", \"RK2\", \"RK4\" ODE solution methods\n",
    "    args   -- arguments to pass to the right-hand side function fun()\n",
    "    \n",
    "    Returns: the pair t,y of time and solution vector.\n",
    "    \"\"\"\n",
    "    t_span = np.asarray(t_span,dtype=np.double)\n",
    "    t = np.linspace(t_span[0],t_span[1],nsteps+1,dtype=np.double)\n",
    "    nvar = len(y0)\n",
    "    y = np.zeros([nsteps+1,nvar],dtype=np.double,order='C')\n",
    "    #assign initial conditions\n",
    "    y0 = np.asarray(y0,dtype=np.double)\n",
    "    y[0,:] = y0\n",
    "    #check if the supplied function is numba-based CFunc\n",
    "    if(\"ctypes\" in dir(fun)):\n",
    "        #numba-based, we can use it right away\n",
    "        fun_c = fun.ctypes\n",
    "    else:\n",
    "        #otherwise, we need to wrap the python function into CFUNCTYPE\n",
    "        FUNCTYPE = CFUNCTYPE(None,c_double, POINTER(c_double), POINTER(c_double), POINTER(c_double))\n",
    "        #create a C-compatible function pointer\n",
    "        fun_c = FUNCTYPE(fun)\n",
    "    #compute preliminaries to call the C function library\n",
    "    dt = (t_span[1]-t_span[0])/nsteps\n",
    "    if args is not None: args = np.asarray(args,dtype=np.double)\n",
    "    if method in [\"RK2\", \"RKO2\"]:\n",
    "        order = 2\n",
    "    elif method in [\"Euler\"]:\n",
    "        order = 1\n",
    "    elif method in [\"Euler-Cromer\"]:\n",
    "        order = -1\n",
    "    else:\n",
    "        #default\n",
    "        order = 4\n",
    "    \n",
    "    #make a call to the C library function\n",
    "    solve_ode_c(t,y,dt,nsteps,nvar,order,args,fun_c)\n",
    "\n",
    "    return t,y"
   ]
  },
  {
   "source": [
    "# func Setup\n",
    "\n",
    "time unit: year\n",
    "\n",
    "length unit: AU"
   ],
   "cell_type": "markdown",
   "metadata": {}
  },
  {
   "cell_type": "code",
   "execution_count": null,
   "metadata": {},
   "outputs": [],
   "source": [
    "from numba import cfunc, types\n",
    "\n",
    "c_sig = types.void(types.double,\n",
    "                   types.CPointer(types.double),\n",
    "                   types.CPointer(types.double),\n",
    "                   types.CPointer(types.double))\n",
    "\n",
    "@cfunc(c_sig)\n",
    "def func(t,a,params,dydt):\n",
    "    \"\"\"\n",
    "    Takes the time and solution vector y, as well as parameters in the params array,\n",
    "    and populates the dydt array with the values of the right-hand side function \n",
    "    f(t,y).\n",
    "    Returns: nothing\n",
    "    \"\"\"\n",
    "\n",
    "    #Particle Input\n",
    "    x = a[0]\n",
    "    v_x = a[1]\n",
    "    y = a[2]\n",
    "    v_y = a[3]\n",
    "    GM_S = params[0]\n",
    "    r = np.sqrt(x**2 + y**2)\n",
    "\n",
    "    #Jupiter\n",
    "    GM_J = params[1]\n",
    "    r_J = params[2]\n",
    "    period_J = params[3]\n",
    "    theta_J = 2*np.pi*t/period_J\n",
    "    x_J = r_J*np.cos(theta_J)\n",
    "    y_J = r_J*np.sin(theta_J)\n",
    "    x_diff = x - x_J\n",
    "    y_diff = y - y_J\n",
    "    r_diff = np.sqrt(x_diff**2 + y_diff**2)\n",
    "    \n",
    "    #Particle Output\n",
    "    dydt[0] = v_x #dx/dt\n",
    "    dydt[1] = -GM_S/(r**3)*x - GM_J/(r_diff**3)*x_diff #dv_x/dt\n",
    "    dydt[2] = v_y #dy/dt\n",
    "    dydt[3] = -GM_S/(r**3)*y - GM_J/(r_diff**3)*y_diff #dv_y/dt"
   ]
  }
 ],
 "metadata": {
  "kernelspec": {
   "name": "python3",
   "display_name": "Python 3",
   "language": "python"
  },
  "language_info": {
   "codemirror_mode": {
    "name": "ipython",
    "version": 2
   },
   "file_extension": ".py",
   "mimetype": "text/x-python",
   "name": "python",
   "nbconvert_exporter": "python",
   "pygments_lexer": "ipython2",
   "version": "3.8.5-final"
  }
 },
 "nbformat": 4,
 "nbformat_minor": 2
}